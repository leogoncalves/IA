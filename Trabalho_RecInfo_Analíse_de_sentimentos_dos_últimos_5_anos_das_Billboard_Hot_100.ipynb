{
  "nbformat": 4,
  "nbformat_minor": 0,
  "metadata": {
    "colab": {
      "name": "Trabalho RecInfo - Analíse de sentimentos dos últimos 5 anos das Billboard Hot 100.ipynb",
      "provenance": [],
      "authorship_tag": "ABX9TyNbyZZswjM/9JKFyyMdlmsy",
      "include_colab_link": true
    },
    "kernelspec": {
      "name": "python3",
      "display_name": "Python 3"
    },
    "language_info": {
      "name": "python"
    }
  },
  "cells": [
    {
      "cell_type": "markdown",
      "metadata": {
        "id": "view-in-github",
        "colab_type": "text"
      },
      "source": [
        "<a href=\"https://colab.research.google.com/github/leogoncalves/IA/blob/main/Trabalho_RecInfo_Anal%C3%ADse_de_sentimentos_dos_%C3%BAltimos_5_anos_das_Billboard_Hot_100.ipynb\" target=\"_parent\"><img src=\"https://colab.research.google.com/assets/colab-badge.svg\" alt=\"Open In Colab\"/></a>"
      ]
    },
    {
      "cell_type": "code",
      "execution_count": null,
      "metadata": {
        "id": "QWI5XWYJs0to"
      },
      "outputs": [],
      "source": [
        ""
      ]
    }
  ]
}